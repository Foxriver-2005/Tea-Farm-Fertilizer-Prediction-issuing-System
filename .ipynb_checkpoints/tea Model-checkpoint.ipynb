{
 "cells": [
  {
   "cell_type": "markdown",
   "id": "fefd156a",
   "metadata": {},
   "source": [
    "Install all the Libraries"
   ]
  },
  {
   "cell_type": "code",
   "execution_count": 1,
   "id": "74c13d15",
   "metadata": {},
   "outputs": [],
   "source": [
    "import numpy as np\n",
    "import pandas as pd\n",
    "from sklearn.linear_model import LinearRegression\n",
    "from sklearn.tree import DecisionTreeClassifier\n",
    "from sklearn.ensemble import RandomForestClassifier\n",
    "from sklearn.linear_model import LogisticRegression\n",
    "from sklearn.metrics import accuracy_score, precision_score, recall_score, mean_absolute_error\n",
    "from sklearn.preprocessing import MinMaxScaler, OneHotEncoder\n",
    "from sklearn.model_selection import train_test_split"
   ]
  },
  {
   "cell_type": "markdown",
   "id": "49817b16",
   "metadata": {},
   "source": [
    "Load the data"
   ]
  },
  {
   "cell_type": "code",
   "execution_count": 2,
   "id": "b4914d71",
   "metadata": {},
   "outputs": [],
   "source": [
    "data = pd.read_csv(\"teafrom.csv\")"
   ]
  },
  {
   "cell_type": "markdown",
   "id": "52a40531",
   "metadata": {},
   "source": [
    "Splitting the data into features (X) and target variable (y)"
   ]
  },
  {
   "cell_type": "code",
   "execution_count": 3,
   "id": "43ac7931",
   "metadata": {},
   "outputs": [],
   "source": [
    "X = data.drop('fertilizer', axis=1)\n",
    "y = data['fertilizer']"
   ]
  },
  {
   "cell_type": "markdown",
   "id": "e396013e",
   "metadata": {},
   "source": [
    "Perform normalization on numerical features"
   ]
  },
  {
   "cell_type": "code",
   "execution_count": 4,
   "id": "d109fcf7",
   "metadata": {},
   "outputs": [],
   "source": [
    "numerical_features = ['bushes', 'kilos', 'size']\n",
    "scaler = MinMaxScaler()\n",
    "X[numerical_features] = scaler.fit_transform(X[numerical_features])"
   ]
  },
  {
   "cell_type": "markdown",
   "id": "ad995fac",
   "metadata": {},
   "source": [
    "Perform one-hot encoding on categorical features (if any)"
   ]
  },
  {
   "cell_type": "code",
   "execution_count": 5,
   "id": "50968903",
   "metadata": {},
   "outputs": [],
   "source": [
    "categorical_features = []"
   ]
  },
  {
   "cell_type": "markdown",
   "id": "22fbb63a",
   "metadata": {},
   "source": [
    "Add the column names of categorical features to the 'categorical_features' list"
   ]
  },
  {
   "cell_type": "code",
   "execution_count": 6,
   "id": "201405ec",
   "metadata": {},
   "outputs": [],
   "source": [
    "encoder = OneHotEncoder(sparse=False, handle_unknown='ignore')\n",
    "X_encoded = pd.DataFrame(encoder.fit_transform(X[categorical_features]))\n",
    "X = pd.concat([X.drop(categorical_features, axis=1), X_encoded], axis=1)"
   ]
  },
  {
   "cell_type": "markdown",
   "id": "f730830e",
   "metadata": {},
   "source": [
    "Split the data into training and test sets"
   ]
  },
  {
   "cell_type": "code",
   "execution_count": 7,
   "id": "249dcc0c",
   "metadata": {},
   "outputs": [],
   "source": [
    "X_train, X_test, y_train, y_test = train_test_split(X, y, test_size=0.3, random_state=42)"
   ]
  },
  {
   "cell_type": "markdown",
   "id": "c4c42bd9",
   "metadata": {},
   "source": [
    "Checking for the shape of data"
   ]
  },
  {
   "cell_type": "code",
   "execution_count": 8,
   "id": "a33102e9",
   "metadata": {},
   "outputs": [
    {
     "name": "stdout",
     "output_type": "stream",
     "text": [
      "(132, 4)\n"
     ]
    }
   ],
   "source": [
    "print(data.shape)"
   ]
  },
  {
   "cell_type": "markdown",
   "id": "b2cb46f2",
   "metadata": {},
   "source": [
    "Checking for the length of the data"
   ]
  },
  {
   "cell_type": "code",
   "execution_count": 9,
   "id": "732d5650",
   "metadata": {},
   "outputs": [
    {
     "name": "stdout",
     "output_type": "stream",
     "text": [
      "132\n"
     ]
    }
   ],
   "source": [
    "print(len(data))"
   ]
  },
  {
   "cell_type": "markdown",
   "id": "3ec5e9ef",
   "metadata": {},
   "source": [
    "Checking for null values"
   ]
  },
  {
   "cell_type": "code",
   "execution_count": 10,
   "id": "881df865",
   "metadata": {},
   "outputs": [
    {
     "name": "stdout",
     "output_type": "stream",
     "text": [
      "fertilizer    False\n",
      "bushes        False\n",
      "kilos         False\n",
      "size          False\n",
      "dtype: bool\n"
     ]
    }
   ],
   "source": [
    "print(data.isnull().any())"
   ]
  },
  {
   "cell_type": "markdown",
   "id": "cd755d55",
   "metadata": {},
   "source": [
    "Initialize the decision tree classifier"
   ]
  },
  {
   "cell_type": "code",
   "execution_count": 12,
   "id": "96453e1e",
   "metadata": {},
   "outputs": [
    {
     "name": "stdout",
     "output_type": "stream",
     "text": [
      "Decision Tree Classifier:\n",
      "Training Accuracy: 1.0\n",
      "Test Accuracy: 0.825\n",
      "Training Precision: 1.0\n",
      "Test Precision: 0.770673076923077\n",
      "Training Recall: 1.0\n",
      "Test Recall: 0.62375\n"
     ]
    }
   ],
   "source": [
    "clf = DecisionTreeClassifier()\n",
    "\n",
    "# Train the classifier on the training data\n",
    "clf.fit(X_train, y_train)\n",
    "\n",
    "# Make predictions on the training and test sets\n",
    "train_predictions = clf.predict(X_train)\n",
    "test_predictions = clf.predict(X_test)\n",
    "\n",
    "# Evaluate the model\n",
    "train_accuracy = accuracy_score(y_train, train_predictions)\n",
    "test_accuracy = accuracy_score(y_test, test_predictions)\n",
    "train_precision = precision_score(y_train, train_predictions, average='macro', zero_division=1)\n",
    "test_precision = precision_score(y_test, test_predictions, average='macro', zero_division=1)\n",
    "train_recall = recall_score(y_train, train_predictions, average='macro', zero_division=1)\n",
    "test_recall = recall_score(y_test, test_predictions, average='macro', zero_division=1)\n",
    "\n",
    "# Print the evaluation metrics\n",
    "print(\"Decision Tree Classifier:\")\n",
    "print(\"Training Accuracy:\", train_accuracy)\n",
    "print(\"Test Accuracy:\", test_accuracy)\n",
    "print(\"Training Precision:\", train_precision)\n",
    "print(\"Test Precision:\", test_precision)\n",
    "print(\"Training Recall:\", train_recall)\n",
    "print(\"Test Recall:\", test_recall)\n",
    "\n",
    "import pickle\n",
    "\n",
    "# Save the trained DecisionTreeClassifier to a pickle file\n",
    "with open('decision_tree_model.pkl', 'wb') as file:\n",
    "    pickle.dump(clf, file)"
   ]
  },
  {
   "cell_type": "markdown",
   "id": "6a6471f8",
   "metadata": {},
   "source": [
    "Initialize the Random Forest Classifier"
   ]
  },
  {
   "cell_type": "code",
   "execution_count": 13,
   "id": "75139379",
   "metadata": {},
   "outputs": [
    {
     "name": "stdout",
     "output_type": "stream",
     "text": [
      "Random Forest Classifier:\n",
      "Training Accuracy: 1.0\n",
      "Test Accuracy: 0.825\n",
      "Training Precision: 1.0\n",
      "Test Precision: 0.770673076923077\n",
      "Training Recall: 1.0\n",
      "Test Recall: 0.62375\n",
      "\n"
     ]
    }
   ],
   "source": [
    "rf_clf = RandomForestClassifier()\n",
    "\n",
    "# Train the Random Forest Classifier on the training data\n",
    "rf_clf.fit(X_train, y_train)\n",
    "\n",
    "# Make predictions on the training and test sets using Random Forest Classifier\n",
    "rf_train_predictions = rf_clf.predict(X_train)\n",
    "rf_test_predictions = rf_clf.predict(X_test)\n",
    "\n",
    "# Evaluate the Random Forest Classifier\n",
    "rf_train_accuracy = accuracy_score(y_train, rf_train_predictions)\n",
    "rf_test_accuracy = accuracy_score(y_test, rf_test_predictions)\n",
    "rf_train_precision = precision_score(y_train, rf_train_predictions, average='macro', zero_division=1)\n",
    "rf_test_precision = precision_score(y_test, rf_test_predictions, average='macro', zero_division=1)\n",
    "rf_train_recall = recall_score(y_train, rf_train_predictions, average='macro', zero_division=1)\n",
    "rf_test_recall = recall_score(y_test, rf_test_predictions, average='macro', zero_division=1)\n",
    "\n",
    "# Print the evaluation metrics for Random Forest Classifier\n",
    "print(\"Random Forest Classifier:\")\n",
    "print(\"Training Accuracy:\", rf_train_accuracy)\n",
    "print(\"Test Accuracy:\", rf_test_accuracy)\n",
    "print(\"Training Precision:\", rf_train_precision)\n",
    "print(\"Test Precision:\", rf_test_precision)\n",
    "print(\"Training Recall:\", rf_train_recall)\n",
    "print(\"Test Recall:\", rf_test_recall)\n",
    "print()"
   ]
  },
  {
   "cell_type": "markdown",
   "id": "9f0239c8",
   "metadata": {},
   "source": [
    "Initialize the Logistic Regression Classifier"
   ]
  },
  {
   "cell_type": "code",
   "execution_count": 14,
   "id": "04bd82ae",
   "metadata": {},
   "outputs": [
    {
     "name": "stdout",
     "output_type": "stream",
     "text": [
      "Logistic Regression Classifier:\n",
      "Training Accuracy: 0.6195652173913043\n",
      "Test Accuracy: 0.575\n",
      "Training Precision: 0.9296514844182188\n",
      "Test Precision: 0.8903452685421995\n",
      "Training Recall: 0.16996047430830039\n",
      "Test Recall: 0.2171875\n"
     ]
    }
   ],
   "source": [
    "lr_clf = LogisticRegression()\n",
    "\n",
    "# Train the Logistic Regression Classifier on the training data\n",
    "lr_clf.fit(X_train, y_train)\n",
    "\n",
    "# Make predictions on the training and test sets using Logistic Regression Classifier\n",
    "lr_train_predictions = lr_clf.predict(X_train)\n",
    "lr_test_predictions = lr_clf.predict(X_test)\n",
    "\n",
    "# Evaluate the Logistic Regression Classifier\n",
    "lr_train_accuracy = accuracy_score(y_train, lr_train_predictions)\n",
    "lr_test_accuracy = accuracy_score(y_test, lr_test_predictions)\n",
    "lr_train_precision = precision_score(y_train, lr_train_predictions, average='macro', zero_division=1)\n",
    "lr_test_precision = precision_score(y_test, lr_test_predictions, average='macro', zero_division=1)\n",
    "lr_train_recall = recall_score(y_train, lr_train_predictions, average='macro', zero_division=1)\n",
    "lr_test_recall = recall_score(y_test, lr_test_predictions, average='macro', zero_division=1)\n",
    "\n",
    "# Print the evaluation metrics for Logistic Regression Classifier\n",
    "print(\"Logistic Regression Classifier:\")\n",
    "print(\"Training Accuracy:\", lr_train_accuracy)\n",
    "print(\"Test Accuracy:\", lr_test_accuracy)\n",
    "print(\"Training Precision:\", lr_train_precision)\n",
    "print(\"Test Precision:\", lr_test_precision)\n",
    "print(\"Training Recall:\", lr_train_recall)\n",
    "print(\"Test Recall:\", lr_test_recall)\n"
   ]
  },
  {
   "cell_type": "markdown",
   "id": "fb59a843",
   "metadata": {},
   "source": [
    "Analysis of Algorithms to determine the best algorithm"
   ]
  },
  {
   "cell_type": "code",
   "execution_count": 17,
   "id": "99350084",
   "metadata": {
    "scrolled": true
   },
   "outputs": [
    {
     "name": "stdout",
     "output_type": "stream",
     "text": [
      "DecisionTreeClassifier\n",
      "Accuracy: 0.825\n",
      "Precision: 0.8563034188034188\n",
      "Recall: 0.5819444444444444\n",
      "\n",
      "RandomForestClassifier\n",
      "Accuracy: 0.825\n",
      "Precision: 0.770673076923077\n",
      "Recall: 0.62375\n",
      "\n",
      "LogisticRegression\n",
      "Accuracy: 0.575\n",
      "Precision: 0.8903452685421995\n",
      "Recall: 0.2171875\n",
      "\n"
     ]
    }
   ],
   "source": [
    "from sklearn.linear_model import LinearRegression\n",
    "from sklearn.metrics import mean_absolute_error, mean_squared_error\n",
    "from sklearn.neighbors import KNeighborsClassifier\n",
    "from sklearn.svm import SVC\n",
    "import tensorflow as tf\n",
    "from tensorflow.keras.models import Sequential\n",
    "from tensorflow.keras.layers import Conv2D, MaxPooling2D, Flatten, Dense\n",
    "\n",
    "# Initialize the classifiers\n",
    "classifiers = [\n",
    "    DecisionTreeClassifier(),\n",
    "    RandomForestClassifier(),\n",
    "    LogisticRegression(),\n",
    "    LinearRegression(),\n",
    "    KNeighborsClassifier(),\n",
    "    SVC(),\n",
    "    Sequential([\n",
    "        Conv2D(32, (3, 3), activation='relu', input_shape=(32, 32, 3)),\n",
    "        MaxPooling2D((2, 2)),\n",
    "        Flatten(),\n",
    "        Dense(10, activation='softmax')\n",
    "    ])\n",
    "]\n",
    "\n",
    "# Train and evaluate each classifier\n",
    "for clf in classifiers:\n",
    "    if isinstance(clf, (LinearRegression, Sequential)):\n",
    "        # Linear regression and CNN need different data format or methods, so we skip training and evaluation\n",
    "        continue\n",
    "    \n",
    "    # Train the classifier on the training data\n",
    "    clf.fit(X_train, y_train)\n",
    "\n",
    "    # Make predictions on the test set\n",
    "    predictions = clf.predict(X_test)\n",
    "\n",
    "    if isinstance(clf, LinearRegression):\n",
    "        # For linear regression, calculate mean absolute error instead of classification metrics\n",
    "        mae = mean_absolute_error(y_test, predictions)\n",
    "        rmse = mean_squared_error(y_test, predictions, squared=False)\n",
    "\n",
    "        # Print the evaluation metrics for linear regression\n",
    "        print(type(clf).__name__)\n",
    "        print(\"Mean Absolute Error (MAE):\", mae)\n",
    "        print(\"Root Mean Squared Error (RMSE):\", rmse)\n",
    "        print()\n",
    "    else:\n",
    "        # Evaluate the classifier\n",
    "        accuracy = accuracy_score(y_test, predictions)\n",
    "        precision = precision_score(y_test, predictions, average='macro', zero_division=1)\n",
    "        recall = recall_score(y_test, predictions, average='macro', zero_division=1)\n",
    "\n",
    "        # Print the evaluation metrics for the classifier\n",
    "        print(type(clf).__name__)\n",
    "        print(\"Accuracy:\", accuracy)\n",
    "        print(\"Precision:\", precision)\n",
    "        print(\"Recall:\", recall)\n",
    "        print()\n"
   ]
  },
  {
   "cell_type": "code",
   "execution_count": 59,
   "id": "4695f864",
   "metadata": {},
   "outputs": [
    {
     "name": "stdout",
     "output_type": "stream",
     "text": [
      "DecisionTreeClassifier\n",
      "Accuracy: 0.8\n",
      "Precision: 0.8002849002849003\n",
      "Recall: 0.575\n",
      "\n",
      "RandomForestClassifier\n",
      "Accuracy: 0.825\n",
      "Precision: 0.770673076923077\n",
      "Recall: 0.62375\n",
      "\n",
      "LogisticRegression\n",
      "Accuracy: 0.575\n",
      "Precision: 0.8903452685421995\n",
      "Recall: 0.2171875\n",
      "\n"
     ]
    },
    {
     "data": {
      "image/png": "[encoded data removed]",
      "text/plain": [
       "<Figure size 1000x600 with 1 Axes>"
      ]
     },
     "metadata": {},
     "output_type": "display_data"
    }
   ],
   "source": [
    "import matplotlib.pyplot as plt\n",
    "\n",
    "# Initialize the classifiers\n",
    "classifiers = [\n",
    "    DecisionTreeClassifier(),\n",
    "    RandomForestClassifier(),\n",
    "    LogisticRegression()\n",
    "]\n",
    "\n",
    "# Train and evaluate each classifier\n",
    "for clf in classifiers:\n",
    "    # Train the classifier on the training data\n",
    "    clf.fit(X_train, y_train)\n",
    "\n",
    "    # Make predictions on the test set\n",
    "    predictions = clf.predict(X_test)\n",
    "\n",
    "    # Evaluate the classifier\n",
    "    accuracy = accuracy_score(y_test, predictions)\n",
    "    precision = precision_score(y_test, predictions, average='macro', zero_division=1)\n",
    "    recall = recall_score(y_test, predictions, average='macro', zero_division=1)\n",
    "\n",
    "    # Print the evaluation metrics for the classifier\n",
    "    print(type(clf).__name__)\n",
    "    print(\"Accuracy:\", accuracy)\n",
    "    print(\"Precision:\", precision)\n",
    "    print(\"Recall:\", recall)\n",
    "    print()\n",
    "\n",
    "# Plot the evaluation metrics\n",
    "classifiers_names = [type(clf).__name__ for clf in classifiers]\n",
    "metrics = ['Accuracy', 'Precision', 'Recall']\n",
    "metrics_values = [accuracy_list, precision_list, recall_list]\n",
    "\n",
    "x = np.arange(len(classifiers_names))\n",
    "width = 0.2\n",
    "\n",
    "plt.figure(figsize=(10, 6))\n",
    "\n",
    "for i, metric_values in enumerate(metrics_values):\n",
    "    plt.bar(x + (i * width), metric_values, width=width, label=metrics[i])\n",
    "\n",
    "plt.xlabel('Classifier')\n",
    "plt.ylabel('Score')\n",
    "plt.title('Evaluation Metrics')\n",
    "plt.xticks(x, classifiers_names, rotation=45)\n",
    "plt.legend()\n",
    "plt.grid(True)\n",
    "plt.show()\n"
   ]
  },
  {
   "cell_type": "code",
   "execution_count": 16,
   "id": "9f7ec3d0",
   "metadata": {},
   "outputs": [
    {
     "name": "stdout",
     "output_type": "stream",
     "text": [
      "Mean Absolute Error (MAE): 0.9514483356599168\n",
      "Root Mean Squared Error (RMSE): 1.461886142687472\n"
     ]
    }
   ],
   "source": [
    "from sklearn.metrics import mean_absolute_error, mean_squared_error\n",
    "\n",
    "# Train and evaluate the linear regression model\n",
    "linear_regression = LinearRegression()\n",
    "linear_regression.fit(X_train, y_train)\n",
    "predictions = linear_regression.predict(X_test)\n",
    "\n",
    "# Calculate mean absolute error (MAE)\n",
    "mae = mean_absolute_error(y_test, predictions)\n",
    "print(\"Mean Absolute Error (MAE):\", mae)\n",
    "\n",
    "# Calculate root mean squared error (RMSE)\n",
    "rmse = mean_squared_error(y_test, predictions, squared=False)\n",
    "print(\"Root Mean Squared Error (RMSE):\", rmse)\n"
   ]
  },
  {
   "cell_type": "code",
   "execution_count": null,
   "id": "0fc4639f",
   "metadata": {},
   "outputs": [],
   "source": []
  }
 ],
 "metadata": {
  "kernelspec": {
   "display_name": "Python 3 (ipykernel)",
   "language": "python",
   "name": "python3"
  },
  "language_info": {
   "codemirror_mode": {
    "name": "ipython",
    "version": 3
   },
   "file_extension": ".py",
   "mimetype": "text/x-python",
   "name": "python",
   "nbconvert_exporter": "python",
   "pygments_lexer": "ipython3",
   "version": "3.9.13"
  }
 },
 "nbformat": 4,
 "nbformat_minor": 5
}
